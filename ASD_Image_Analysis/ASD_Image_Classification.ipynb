{
 "cells": [
  {
   "cell_type": "markdown",
   "metadata": {},
   "source": [
    "## Import Packages"
   ]
  },
  {
   "cell_type": "code",
   "execution_count": 1,
   "metadata": {},
   "outputs": [],
   "source": [
    "import tensorflow as tf\n",
    "from tensorflow import keras\n",
    "from tensorflow.keras import backend as K\n",
    "from tensorflow.keras.layers import Dense, Activation,Dropout,Conv2D, MaxPooling2D,BatchNormalization, Flatten\n",
    "from tensorflow.keras.optimizers import Adam\n",
    "from tensorflow.keras.metrics import categorical_crossentropy\n",
    "from tensorflow.keras import regularizers\n",
    "from tensorflow.keras.preprocessing.image import ImageDataGenerator, array_to_img, img_to_array, load_img\n",
    "from tensorflow.keras.applications import imagenet_utils\n",
    "from tensorflow.keras.callbacks import EarlyStopping, ModelCheckpoint\n",
    "from tensorflow.keras.preprocessing import image\n",
    "from tensorflow.keras.models import Model, load_model, Sequential\n",
    "from tensorflow.keras.utils import to_categorical\n",
    "import numpy as np\n",
    "import matplotlib.pyplot as plt\n",
    "import time\n",
    "import os"
   ]
  },
  {
   "cell_type": "markdown",
   "metadata": {},
   "source": [
    "## Set up source directories for test and train data and model tune hyperparameters"
   ]
  },
  {
   "cell_type": "code",
   "execution_count": 4,
   "metadata": {},
   "outputs": [],
   "source": [
    "train_data_dir = 'autistic-children-data-set-traintestvalidate/train'\n",
    "validation_data_dir = 'autistic-children-data-set-traintestvalidate/valid'\n",
    "nb_train_samples = 2650 \n",
    "nb_validation_samples = 80\n",
    "epochs = 36\n",
    "batch_size = 9"
   ]
  },
  {
   "cell_type": "code",
   "execution_count": 5,
   "metadata": {},
   "outputs": [],
   "source": [
    "img_width, img_height = 224, 224"
   ]
  },
  {
   "cell_type": "markdown",
   "metadata": {},
   "source": [
    "## DEFINE NETWORK LAYERS"
   ]
  },
  {
   "cell_type": "code",
   "execution_count": 6,
   "metadata": {},
   "outputs": [],
   "source": [
    "if K.image_data_format() == 'channels_first': \n",
    "    input_shape = (3, img_width, img_height) \n",
    "else: \n",
    "    input_shape = (img_width, img_height, 3)"
   ]
  },
  {
   "cell_type": "code",
   "execution_count": 7,
   "metadata": {},
   "outputs": [],
   "source": [
    "model = Sequential() \n",
    "model.add(Conv2D(32, (2, 2), input_shape=input_shape)) \n",
    "model.add(Activation('relu')) \n",
    "model.add(MaxPooling2D(pool_size=(2, 2))) \n",
    "  \n",
    "model.add(Conv2D(32, (2, 2))) \n",
    "model.add(Activation('relu')) \n",
    "model.add(MaxPooling2D(pool_size=(2, 2))) \n",
    "  \n",
    "model.add(Conv2D(64, (2, 2))) \n",
    "model.add(Activation('relu')) \n",
    "model.add(MaxPooling2D(pool_size=(2, 2))) \n",
    "  \n",
    "model.add(Flatten()) \n",
    "model.add(Dense(64)) \n",
    "model.add(Activation('relu')) \n",
    "model.add(Dropout(0.5)) \n",
    "model.add(Dense(1)) \n",
    "model.add(Activation('sigmoid'))"
   ]
  },
  {
   "cell_type": "markdown",
   "metadata": {},
   "source": [
    "## COMPILE NETWORK"
   ]
  },
  {
   "cell_type": "code",
   "execution_count": 8,
   "metadata": {},
   "outputs": [],
   "source": [
    "model.compile(loss='binary_crossentropy', \n",
    "              optimizer='rmsprop', \n",
    "              metrics=['accuracy']) "
   ]
  },
  {
   "cell_type": "markdown",
   "metadata": {},
   "source": [
    "## FIT NETWORK  ***This will take 30-45 minutes depending on CPU"
   ]
  },
  {
   "cell_type": "code",
   "execution_count": 9,
   "metadata": {},
   "outputs": [
    {
     "name": "stdout",
     "output_type": "stream",
     "text": [
      "Found 3423 images belonging to 2 classes.\n",
      "Found 80 images belonging to 2 classes.\n",
      "WARNING:tensorflow:From <ipython-input-9-1e1e8c460210>:26: Model.fit_generator (from tensorflow.python.keras.engine.training) is deprecated and will be removed in a future version.\n",
      "Instructions for updating:\n",
      "Please use Model.fit, which supports generators.\n",
      "WARNING:tensorflow:sample_weight modes were coerced from\n",
      "  ...\n",
      "    to  \n",
      "  ['...']\n",
      "WARNING:tensorflow:sample_weight modes were coerced from\n",
      "  ...\n",
      "    to  \n",
      "  ['...']\n",
      "Train for 294 steps, validate for 8 steps\n",
      "Epoch 1/36\n",
      "294/294 [==============================] - 64s 219ms/step - loss: 0.7035 - accuracy: 0.6295 - val_loss: 0.5727 - val_accuracy: 0.6944\n",
      "Epoch 2/36\n",
      "294/294 [==============================] - 63s 215ms/step - loss: 0.6077 - accuracy: 0.6780 - val_loss: 0.5483 - val_accuracy: 0.7500\n",
      "Epoch 3/36\n",
      "294/294 [==============================] - 65s 222ms/step - loss: 0.6092 - accuracy: 0.6962 - val_loss: 0.4003 - val_accuracy: 0.8611\n",
      "Epoch 4/36\n",
      "294/294 [==============================] - 63s 214ms/step - loss: 0.5738 - accuracy: 0.7139 - val_loss: 0.4553 - val_accuracy: 0.8056\n",
      "Epoch 5/36\n",
      "294/294 [==============================] - 65s 221ms/step - loss: 0.5651 - accuracy: 0.7254 - val_loss: 0.4230 - val_accuracy: 0.8333\n",
      "Epoch 6/36\n",
      "294/294 [==============================] - 63s 215ms/step - loss: 0.5491 - accuracy: 0.7314 - val_loss: 0.4408 - val_accuracy: 0.8056\n",
      "Epoch 7/36\n",
      "294/294 [==============================] - 62s 210ms/step - loss: 0.5673 - accuracy: 0.7201 - val_loss: 0.4264 - val_accuracy: 0.8472\n",
      "Epoch 8/36\n",
      "294/294 [==============================] - 63s 213ms/step - loss: 0.5576 - accuracy: 0.7409 - val_loss: 0.3622 - val_accuracy: 0.8750\n",
      "Epoch 9/36\n",
      "294/294 [==============================] - 65s 220ms/step - loss: 0.5588 - accuracy: 0.7254 - val_loss: 0.3018 - val_accuracy: 0.9028\n",
      "Epoch 10/36\n",
      "294/294 [==============================] - 63s 213ms/step - loss: 0.5510 - accuracy: 0.7305 - val_loss: 0.4171 - val_accuracy: 0.9167\n",
      "Epoch 11/36\n",
      "294/294 [==============================] - 61s 209ms/step - loss: 0.5428 - accuracy: 0.7386 - val_loss: 0.2921 - val_accuracy: 0.8750\n",
      "Epoch 12/36\n",
      "294/294 [==============================] - 61s 208ms/step - loss: 0.5368 - accuracy: 0.7451 - val_loss: 0.4513 - val_accuracy: 0.8472\n",
      "Epoch 13/36\n",
      "294/294 [==============================] - 61s 207ms/step - loss: 0.5294 - accuracy: 0.7447 - val_loss: 0.3127 - val_accuracy: 0.9028\n",
      "Epoch 14/36\n",
      "294/294 [==============================] - 61s 207ms/step - loss: 0.5291 - accuracy: 0.7451 - val_loss: 0.3265 - val_accuracy: 0.8750\n",
      "Epoch 15/36\n",
      "294/294 [==============================] - 64s 218ms/step - loss: 0.5411 - accuracy: 0.7439 - val_loss: 0.4385 - val_accuracy: 0.8472\n",
      "Epoch 16/36\n",
      "294/294 [==============================] - 64s 219ms/step - loss: 0.5345 - accuracy: 0.7428 - val_loss: 0.3635 - val_accuracy: 0.8750\n",
      "Epoch 17/36\n",
      "294/294 [==============================] - 63s 215ms/step - loss: 0.5263 - accuracy: 0.7508 - val_loss: 0.3722 - val_accuracy: 0.8889\n",
      "Epoch 18/36\n",
      "294/294 [==============================] - 61s 208ms/step - loss: 0.5258 - accuracy: 0.7557 - val_loss: 0.4250 - val_accuracy: 0.8750\n",
      "Epoch 19/36\n",
      "294/294 [==============================] - 63s 214ms/step - loss: 0.5294 - accuracy: 0.7504 - val_loss: 0.4448 - val_accuracy: 0.8611\n",
      "Epoch 20/36\n",
      "294/294 [==============================] - 62s 211ms/step - loss: 0.5246 - accuracy: 0.7481 - val_loss: 0.3978 - val_accuracy: 0.8889\n",
      "Epoch 21/36\n",
      "294/294 [==============================] - 62s 212ms/step - loss: 0.5262 - accuracy: 0.7545 - val_loss: 0.3112 - val_accuracy: 0.9028\n",
      "Epoch 22/36\n",
      "294/294 [==============================] - 65s 220ms/step - loss: 0.5253 - accuracy: 0.7492 - val_loss: 0.3599 - val_accuracy: 0.8611\n",
      "Epoch 23/36\n",
      "294/294 [==============================] - 64s 218ms/step - loss: 0.5163 - accuracy: 0.7725 - val_loss: 0.3159 - val_accuracy: 0.9028\n",
      "Epoch 24/36\n",
      "294/294 [==============================] - 62s 212ms/step - loss: 0.5095 - accuracy: 0.7648 - val_loss: 0.4210 - val_accuracy: 0.8056\n",
      "Epoch 25/36\n",
      "294/294 [==============================] - 64s 217ms/step - loss: 0.5204 - accuracy: 0.7617 - val_loss: 0.2945 - val_accuracy: 0.9167\n",
      "Epoch 26/36\n",
      "294/294 [==============================] - 64s 218ms/step - loss: 0.5163 - accuracy: 0.7640 - val_loss: 0.2908 - val_accuracy: 0.9028\n",
      "Epoch 27/36\n",
      "294/294 [==============================] - 65s 222ms/step - loss: 0.5019 - accuracy: 0.7667 - val_loss: 0.3835 - val_accuracy: 0.8611\n",
      "Epoch 28/36\n",
      "294/294 [==============================] - 66s 224ms/step - loss: 0.5101 - accuracy: 0.7640 - val_loss: 0.3642 - val_accuracy: 0.8611\n",
      "Epoch 29/36\n",
      "294/294 [==============================] - 65s 222ms/step - loss: 0.5001 - accuracy: 0.7773 - val_loss: 0.3448 - val_accuracy: 0.9028\n",
      "Epoch 30/36\n",
      "294/294 [==============================] - 62s 211ms/step - loss: 0.5056 - accuracy: 0.7633 - val_loss: 0.2536 - val_accuracy: 0.9167\n",
      "Epoch 31/36\n",
      "294/294 [==============================] - 61s 208ms/step - loss: 0.5153 - accuracy: 0.7596 - val_loss: 0.3549 - val_accuracy: 0.8889\n",
      "Epoch 32/36\n",
      "294/294 [==============================] - 63s 214ms/step - loss: 0.5040 - accuracy: 0.7652 - val_loss: 0.3222 - val_accuracy: 0.8889\n",
      "Epoch 33/36\n",
      "294/294 [==============================] - 63s 215ms/step - loss: 0.4985 - accuracy: 0.7748 - val_loss: 0.4115 - val_accuracy: 0.8611\n",
      "Epoch 34/36\n",
      "294/294 [==============================] - 63s 213ms/step - loss: 0.5116 - accuracy: 0.7564 - val_loss: 0.3898 - val_accuracy: 0.8472\n",
      "Epoch 35/36\n",
      "294/294 [==============================] - 62s 210ms/step - loss: 0.5144 - accuracy: 0.7634 - val_loss: 0.3097 - val_accuracy: 0.9028\n",
      "Epoch 36/36\n",
      "294/294 [==============================] - 64s 219ms/step - loss: 0.5020 - accuracy: 0.7723 - val_loss: 0.2790 - val_accuracy: 0.9306\n"
     ]
    },
    {
     "data": {
      "text/plain": [
       "<tensorflow.python.keras.callbacks.History at 0x105c5c690>"
      ]
     },
     "execution_count": 9,
     "metadata": {},
     "output_type": "execute_result"
    }
   ],
   "source": [
    "train_datagen = ImageDataGenerator( \n",
    "    rescale=1. / 255, \n",
    "    shear_range=0.2, \n",
    "    zoom_range=0.2, \n",
    "    horizontal_flip=True) \n",
    "  \n",
    "test_datagen = ImageDataGenerator(rescale=1. / 255) \n",
    "  \n",
    "train_generator = train_datagen.flow_from_directory( \n",
    "    train_data_dir, \n",
    "    target_size=(img_width, img_height), \n",
    "    batch_size=batch_size, \n",
    "    class_mode='binary') \n",
    "  \n",
    "validation_generator = test_datagen.flow_from_directory( \n",
    "    validation_data_dir, \n",
    "    target_size=(img_width, img_height), \n",
    "    batch_size=batch_size, \n",
    "    class_mode='binary') \n",
    "  \n",
    "model.fit_generator( \n",
    "    train_generator, \n",
    "    steps_per_epoch=nb_train_samples // batch_size, \n",
    "    epochs=epochs, \n",
    "    validation_data=validation_generator, \n",
    "    validation_steps=nb_validation_samples // batch_size)"
   ]
  },
  {
   "cell_type": "markdown",
   "metadata": {},
   "source": [
    "## EVALUATE MODEL"
   ]
  },
  {
   "cell_type": "code",
   "execution_count": 12,
   "metadata": {},
   "outputs": [
    {
     "ename": "ValueError",
     "evalue": "Failed to find data adapter that can handle input: <class 'NoneType'>, <class 'NoneType'>",
     "output_type": "error",
     "traceback": [
      "\u001b[0;31m---------------------------------------------------------------------------\u001b[0m",
      "\u001b[0;31mValueError\u001b[0m                                Traceback (most recent call last)",
      "\u001b[0;32m<ipython-input-12-ca7c8c28177a>\u001b[0m in \u001b[0;36m<module>\u001b[0;34m\u001b[0m\n\u001b[0;32m----> 1\u001b[0;31m \u001b[0mloss\u001b[0m\u001b[0;34m,\u001b[0m \u001b[0maccuracy\u001b[0m \u001b[0;34m=\u001b[0m \u001b[0mmodel\u001b[0m\u001b[0;34m.\u001b[0m\u001b[0mevaluate\u001b[0m\u001b[0;34m(\u001b[0m\u001b[0;34m)\u001b[0m\u001b[0;34m\u001b[0m\u001b[0;34m\u001b[0m\u001b[0m\n\u001b[0m",
      "\u001b[0;32m~/opt/anaconda3/lib/python3.7/site-packages/tensorflow_core/python/keras/engine/training.py\u001b[0m in \u001b[0;36mevaluate\u001b[0;34m(self, x, y, batch_size, verbose, sample_weight, steps, callbacks, max_queue_size, workers, use_multiprocessing)\u001b[0m\n\u001b[1;32m    928\u001b[0m         \u001b[0mmax_queue_size\u001b[0m\u001b[0;34m=\u001b[0m\u001b[0mmax_queue_size\u001b[0m\u001b[0;34m,\u001b[0m\u001b[0;34m\u001b[0m\u001b[0;34m\u001b[0m\u001b[0m\n\u001b[1;32m    929\u001b[0m         \u001b[0mworkers\u001b[0m\u001b[0;34m=\u001b[0m\u001b[0mworkers\u001b[0m\u001b[0;34m,\u001b[0m\u001b[0;34m\u001b[0m\u001b[0;34m\u001b[0m\u001b[0m\n\u001b[0;32m--> 930\u001b[0;31m         use_multiprocessing=use_multiprocessing)\n\u001b[0m\u001b[1;32m    931\u001b[0m \u001b[0;34m\u001b[0m\u001b[0m\n\u001b[1;32m    932\u001b[0m   def predict(self,\n",
      "\u001b[0;32m~/opt/anaconda3/lib/python3.7/site-packages/tensorflow_core/python/keras/engine/training_v2.py\u001b[0m in \u001b[0;36mevaluate\u001b[0;34m(self, model, x, y, batch_size, verbose, sample_weight, steps, callbacks, max_queue_size, workers, use_multiprocessing, **kwargs)\u001b[0m\n\u001b[1;32m    488\u001b[0m         \u001b[0msample_weight\u001b[0m\u001b[0;34m=\u001b[0m\u001b[0msample_weight\u001b[0m\u001b[0;34m,\u001b[0m \u001b[0msteps\u001b[0m\u001b[0;34m=\u001b[0m\u001b[0msteps\u001b[0m\u001b[0;34m,\u001b[0m \u001b[0mcallbacks\u001b[0m\u001b[0;34m=\u001b[0m\u001b[0mcallbacks\u001b[0m\u001b[0;34m,\u001b[0m\u001b[0;34m\u001b[0m\u001b[0;34m\u001b[0m\u001b[0m\n\u001b[1;32m    489\u001b[0m         \u001b[0mmax_queue_size\u001b[0m\u001b[0;34m=\u001b[0m\u001b[0mmax_queue_size\u001b[0m\u001b[0;34m,\u001b[0m \u001b[0mworkers\u001b[0m\u001b[0;34m=\u001b[0m\u001b[0mworkers\u001b[0m\u001b[0;34m,\u001b[0m\u001b[0;34m\u001b[0m\u001b[0;34m\u001b[0m\u001b[0m\n\u001b[0;32m--> 490\u001b[0;31m         use_multiprocessing=use_multiprocessing, **kwargs)\n\u001b[0m\u001b[1;32m    491\u001b[0m \u001b[0;34m\u001b[0m\u001b[0m\n\u001b[1;32m    492\u001b[0m   def predict(self, model, x, batch_size=None, verbose=0, steps=None,\n",
      "\u001b[0;32m~/opt/anaconda3/lib/python3.7/site-packages/tensorflow_core/python/keras/engine/training_v2.py\u001b[0m in \u001b[0;36m_model_iteration\u001b[0;34m(self, model, mode, x, y, batch_size, verbose, sample_weight, steps, callbacks, max_queue_size, workers, use_multiprocessing, **kwargs)\u001b[0m\n\u001b[1;32m    424\u001b[0m           \u001b[0mmax_queue_size\u001b[0m\u001b[0;34m=\u001b[0m\u001b[0mmax_queue_size\u001b[0m\u001b[0;34m,\u001b[0m\u001b[0;34m\u001b[0m\u001b[0;34m\u001b[0m\u001b[0m\n\u001b[1;32m    425\u001b[0m           \u001b[0mworkers\u001b[0m\u001b[0;34m=\u001b[0m\u001b[0mworkers\u001b[0m\u001b[0;34m,\u001b[0m\u001b[0;34m\u001b[0m\u001b[0;34m\u001b[0m\u001b[0m\n\u001b[0;32m--> 426\u001b[0;31m           use_multiprocessing=use_multiprocessing)\n\u001b[0m\u001b[1;32m    427\u001b[0m       \u001b[0mtotal_samples\u001b[0m \u001b[0;34m=\u001b[0m \u001b[0m_get_total_number_of_samples\u001b[0m\u001b[0;34m(\u001b[0m\u001b[0madapter\u001b[0m\u001b[0;34m)\u001b[0m\u001b[0;34m\u001b[0m\u001b[0;34m\u001b[0m\u001b[0m\n\u001b[1;32m    428\u001b[0m       \u001b[0muse_sample\u001b[0m \u001b[0;34m=\u001b[0m \u001b[0mtotal_samples\u001b[0m \u001b[0;32mis\u001b[0m \u001b[0;32mnot\u001b[0m \u001b[0;32mNone\u001b[0m\u001b[0;34m\u001b[0m\u001b[0;34m\u001b[0m\u001b[0m\n",
      "\u001b[0;32m~/opt/anaconda3/lib/python3.7/site-packages/tensorflow_core/python/keras/engine/training_v2.py\u001b[0m in \u001b[0;36m_process_inputs\u001b[0;34m(model, mode, x, y, batch_size, epochs, sample_weights, class_weights, shuffle, steps, distribution_strategy, max_queue_size, workers, use_multiprocessing)\u001b[0m\n\u001b[1;32m    634\u001b[0m                     use_multiprocessing=False):\n\u001b[1;32m    635\u001b[0m   \u001b[0;34m\"\"\"Process the inputs for fit/eval/predict().\"\"\"\u001b[0m\u001b[0;34m\u001b[0m\u001b[0;34m\u001b[0m\u001b[0m\n\u001b[0;32m--> 636\u001b[0;31m   \u001b[0madapter_cls\u001b[0m \u001b[0;34m=\u001b[0m \u001b[0mdata_adapter\u001b[0m\u001b[0;34m.\u001b[0m\u001b[0mselect_data_adapter\u001b[0m\u001b[0;34m(\u001b[0m\u001b[0mx\u001b[0m\u001b[0;34m,\u001b[0m \u001b[0my\u001b[0m\u001b[0;34m)\u001b[0m\u001b[0;34m\u001b[0m\u001b[0;34m\u001b[0m\u001b[0m\n\u001b[0m\u001b[1;32m    637\u001b[0m   standardize = functools.partial(\n\u001b[1;32m    638\u001b[0m       \u001b[0mmodel\u001b[0m\u001b[0;34m.\u001b[0m\u001b[0m_standardize_user_data\u001b[0m\u001b[0;34m,\u001b[0m\u001b[0;34m\u001b[0m\u001b[0;34m\u001b[0m\u001b[0m\n",
      "\u001b[0;32m~/opt/anaconda3/lib/python3.7/site-packages/tensorflow_core/python/keras/engine/data_adapter.py\u001b[0m in \u001b[0;36mselect_data_adapter\u001b[0;34m(x, y)\u001b[0m\n\u001b[1;32m    996\u001b[0m         \u001b[0;34m\"Failed to find data adapter that can handle \"\u001b[0m\u001b[0;34m\u001b[0m\u001b[0;34m\u001b[0m\u001b[0m\n\u001b[1;32m    997\u001b[0m         \"input: {}, {}\".format(\n\u001b[0;32m--> 998\u001b[0;31m             _type_name(x), _type_name(y)))\n\u001b[0m\u001b[1;32m    999\u001b[0m   \u001b[0;32melif\u001b[0m \u001b[0mlen\u001b[0m\u001b[0;34m(\u001b[0m\u001b[0madapter_cls\u001b[0m\u001b[0;34m)\u001b[0m \u001b[0;34m>\u001b[0m \u001b[0;36m1\u001b[0m\u001b[0;34m:\u001b[0m\u001b[0;34m\u001b[0m\u001b[0;34m\u001b[0m\u001b[0m\n\u001b[1;32m   1000\u001b[0m     raise RuntimeError(\n",
      "\u001b[0;31mValueError\u001b[0m: Failed to find data adapter that can handle input: <class 'NoneType'>, <class 'NoneType'>"
     ]
    }
   ],
   "source": [
    "loss, accuracy = model.evaluate()"
   ]
  },
  {
   "cell_type": "markdown",
   "metadata": {},
   "source": [
    "## MAKE PREDICTONS"
   ]
  },
  {
   "cell_type": "code",
   "execution_count": 13,
   "metadata": {},
   "outputs": [
    {
     "ename": "NameError",
     "evalue": "name 'x' is not defined",
     "output_type": "error",
     "traceback": [
      "\u001b[0;31m---------------------------------------------------------------------------\u001b[0m",
      "\u001b[0;31mNameError\u001b[0m                                 Traceback (most recent call last)",
      "\u001b[0;32m<ipython-input-13-5337a53e27a8>\u001b[0m in \u001b[0;36m<module>\u001b[0;34m\u001b[0m\n\u001b[0;32m----> 1\u001b[0;31m \u001b[0mpredictions\u001b[0m \u001b[0;34m=\u001b[0m \u001b[0mmodel\u001b[0m\u001b[0;34m.\u001b[0m\u001b[0mpredict\u001b[0m\u001b[0;34m(\u001b[0m\u001b[0mx\u001b[0m\u001b[0;34m)\u001b[0m\u001b[0;34m\u001b[0m\u001b[0;34m\u001b[0m\u001b[0m\n\u001b[0m",
      "\u001b[0;31mNameError\u001b[0m: name 'x' is not defined"
     ]
    }
   ],
   "source": [
    "predictions = model.predict()"
   ]
  },
  {
   "cell_type": "code",
   "execution_count": null,
   "metadata": {},
   "outputs": [],
   "source": []
  }
 ],
 "metadata": {
  "kernelspec": {
   "display_name": "Python 3",
   "language": "python",
   "name": "python3"
  },
  "language_info": {
   "codemirror_mode": {
    "name": "ipython",
    "version": 3
   },
   "file_extension": ".py",
   "mimetype": "text/x-python",
   "name": "python",
   "nbconvert_exporter": "python",
   "pygments_lexer": "ipython3",
   "version": "3.7.4"
  }
 },
 "nbformat": 4,
 "nbformat_minor": 2
}
